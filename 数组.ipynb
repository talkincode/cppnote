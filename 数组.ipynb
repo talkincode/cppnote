{
 "cells": [
  {
   "cell_type": "markdown",
   "metadata": {},
   "source": []
  },
  {
   "cell_type": "markdown",
   "metadata": {},
   "source": [
    "##  开关灯控制\n",
    "\n",
    "针对C++数组，我们可以创建一个练习题来实现开关灯的控制。\n",
    "\n",
    "### 题目描述\n",
    "\n",
    "假设有一个房间，里面有n盏灯，初始状态都是关闭的。现在有m个人进入房间，每个人都有一个编号，编号从1到m。每个人都会按照以下规则操作灯的开关：\n",
    "\n",
    "- 如果灯是关闭的，则打开它。\n",
    "- 如果灯是打开的，则关闭它。\n",
    "\n",
    "每个人按照自己的编号顺序进行操作，第一个人操作完毕后，第二个人再进行操作，依此类推。当最后一个人操作完毕后，回到第一个人继续操作，直到所有人都完成了一轮操作。\n",
    "\n",
    "你的任务是编写一个C++程序，根据给定的n和m，输出每个人操作完毕后灯的状态。\n",
    "\n",
    "### 输入\n",
    "\n",
    "输入包含两个整数n和m，表示灯的数量和人的数量。(1 ≤ n, m ≤ 100)\n",
    "\n",
    "### 输出\n",
    "\n",
    "输出包含n个字符，表示每个灯的状态。其中，'0'表示关闭，'1'表示打开。\n",
    "\n",
    "### 示例\n",
    "\n",
    "输入:\n"
   ]
  },
  {
   "cell_type": "code",
   "execution_count": null,
   "metadata": {
    "vscode": {
     "languageId": "cpp"
    }
   },
   "outputs": [],
   "source": [
    "#include <iostream>\n",
    "\n",
    "// int main() {\n",
    "    int n, m;\n",
    "    std::cin >> n >> m;\n",
    "    bool lights[1000] = {false};\n",
    "\n",
    "    for (int i = 1; i <= m; ++i) {\n",
    "        for (int j = i - 1; j < n; j += i) {\n",
    "            lights[j] = !lights[j];\n",
    "        }\n",
    "    }\n",
    "\n",
    "    for (int i = 0; i < n; ++i) {\n",
    "        std::cout << lights[i];\n",
    "    }\n",
    "\n",
    "//     return 0;\n",
    "// }\n"
   ]
  },
  {
   "cell_type": "markdown",
   "metadata": {},
   "source": [
    "## 练习题目：最大值和最小值的差\n",
    "\n",
    "请编写一个 C++ 程序，用于计算给定数组中最大值和最小值之间的差值。\n",
    "\n",
    "### 输入\n",
    "\n",
    "输入的第一行包含一个整数 n，表示数组的长度。\n",
    "\n",
    "接下来的一行包含 n 个整数，表示数组的元素。\n",
    "\n",
    "### 输出\n",
    "\n",
    "输出一个整数，表示最大值和最小值之间的差值。\n",
    "\n",
    "### 示例\n",
    "\n",
    "输入：\n",
    "5\n",
    "1 4 2 9 5\n",
    "\n",
    "输出：\n",
    "8\n"
   ]
  },
  {
   "cell_type": "code",
   "execution_count": 3,
   "metadata": {
    "vscode": {
     "languageId": "cpp"
    }
   },
   "outputs": [
    {
     "name": "stdout",
     "output_type": "stream",
     "text": [
      "3"
     ]
    },
    {
     "data": {
      "text/plain": [
       "@0x7f3d9fe7eb60"
      ]
     },
     "execution_count": 3,
     "metadata": {},
     "output_type": "execute_result"
    }
   ],
   "source": [
    "#include <iostream>\n",
    "#include <climits>\n",
    "\n",
    "// int main() {\n",
    "    int n;\n",
    "    std::cin >> n;\n",
    "    int max_val = INT_MIN;\n",
    "    int min_val = INT_MAX;\n",
    "\n",
    "    for (int i = 0; i < n; ++i) {\n",
    "        int num;\n",
    "        std::cin >> num;\n",
    "        if (num > max_val) {\n",
    "            max_val = num;\n",
    "        }\n",
    "        if (num < min_val) {\n",
    "            min_val = num;\n",
    "        }\n",
    "    }\n",
    "\n",
    "    std::cout << max_val - min_val;\n",
    "\n",
    "//     return 0;\n",
    "// }"
   ]
  },
  {
   "cell_type": "markdown",
   "metadata": {},
   "source": [
    "## 创建一个不与最大数字相同的和\n",
    "\n",
    "### 题目描述\n",
    "\n",
    "给定一个整数数组，你需要编写一个 C++ 程序，计算数组中非最大元素的和。\n",
    "\n",
    "### 输入\n",
    "\n",
    "输入的第一行包含一个整数 n，表示数组的长度。\n",
    "\n",
    "接下来的一行包含 n 个整数，表示数组的元素。\n",
    "\n",
    "### 输出\n",
    "\n",
    "输出一个整数，表示计算得到的和。\n",
    "\n",
    "### 示例\n",
    "\n",
    "输入：\n",
    "5\n",
    "1 2 3 4 5\n",
    "\n",
    "输出：\n",
    "10\n",
    "\n"
   ]
  },
  {
   "cell_type": "code",
   "execution_count": 3,
   "metadata": {
    "vscode": {
     "languageId": "cpp"
    }
   },
   "outputs": [
    {
     "name": "stdout",
     "output_type": "stream",
     "text": [
      "9"
     ]
    },
    {
     "data": {
      "text/plain": [
       "@0x7f0453df2b60"
      ]
     },
     "execution_count": 3,
     "metadata": {},
     "output_type": "execute_result"
    }
   ],
   "source": [
    "#include <iostream>\n",
    "#include <climits>\n",
    "\n",
    "// int main() {\n",
    "    int n;\n",
    "    std::cin >> n;\n",
    "    int max_val = INT_MIN;\n",
    "    int arr[1000];\n",
    "\n",
    "    for (int i = 0; i < n; ++i) {\n",
    "        std::cin >> arr[i];\n",
    "        if (arr[i] > max_val) {\n",
    "            max_val = arr[i];\n",
    "        }\n",
    "    }\n",
    "\n",
    "    int sum = 0;\n",
    "    for (int i = 0; i < n; ++i) {\n",
    "        if (arr[i] != max_val) {\n",
    "            sum += arr[i];\n",
    "        }\n",
    "    }\n",
    "\n",
    "    std::cout << sum;\n",
    "\n",
    "//     return 0;\n",
    "// }"
   ]
  }
 ],
 "metadata": {
  "kernelspec": {
   "display_name": "C++17",
   "language": "C++17",
   "name": "xcpp17"
  },
  "language_info": {
   "codemirror_mode": "text/x-c++src",
   "file_extension": ".cpp",
   "mimetype": "text/x-c++src",
   "name": "C++17",
   "version": "17"
  }
 },
 "nbformat": 4,
 "nbformat_minor": 2
}
