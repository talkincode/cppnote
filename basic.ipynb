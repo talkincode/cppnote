{
 "cells": [
  {
   "cell_type": "markdown",
   "metadata": {},
   "source": [
    "# 顺序结构程序设计\n",
    "\n",
    "顺序结构是程序设计中最基础且最简单的一种结构。在C++等编程语言中，顺序结构程序设计指的是程序按照代码编写的顺序，从上到下逐句执行，不产生任何的跳转。通常情况下，一个程序从main函数的第一行代码开始，到main函数的最后一行代码结束，这个过程就是一个顺序结构的程序设计实例。\n",
    "\n",
    "在顺序结构中，每条语句只执行一次。这些语句可能包括变量的声明与初始化、数学计算、函数调用、输入输出操作等。例如，一个简单的C++顺序结构的代码段可能看起来像下面这样：\n",
    "\n",
    "```cpp\n",
    "#include <iostream>\n",
    "\n",
    "int main() {\n",
    "    // 声明变量\n",
    "    int a;\n",
    "    int b;\n",
    "    int sum;\n",
    "\n",
    "    // 输入操作\n",
    "    std::cout << \"Enter first number: \";\n",
    "    std::cin >> a;\n",
    "\n",
    "    std::cout << \"Enter second number: \";\n",
    "    std::cin >> b;\n",
    "\n",
    "    // 计算操作\n",
    "    sum = a + b;\n",
    "\n",
    "    // 输出操作\n",
    "    std::cout << \"The sum is: \" << sum << std::endl;\n",
    "\n",
    "    return 0;\n",
    "}\n",
    "```\n",
    "上述代码从main函数开始，首先是变量的声明，然后接收用户输入，进行数学计算，并输出计算结果，最后返回0并结束程序。整个过程中，代码没有任何的跳转语句如if条件判断或循环，因此它是一个顺序结构的程序。\n",
    "\n",
    "在实际开发中，顺序结构往往与其他结构如选择结构（if-else语句）和循环结构（for、while循环）结合使用，以解决更为复杂的问题。然而，顺序结构仍然是构成任何程序的基础。"
   ]
  },
  {
   "cell_type": "markdown",
   "metadata": {},
   "source": [
    "## 计算并联电阻的阻值\n",
    "\n",
    "题目：并联电阻阻值计算器\n",
    "\n",
    "编写一个 C++ 程序，该程序可以计算两个并联电阻的总阻值。并联电阻的总阻值可以通过以下公式计算：\n",
    "\n",
    "1 / Rtotal = 1 / R1 + 1 / R2\n",
    "\n",
    "其中，Rtotal 是总阻值，R1 和 R2 是并联电阻的阻值。\n",
    "\n",
    "要求：\n",
    "\n",
    "1. 程序应该提示用户输入两个电阻的阻值。\n",
    "2. 程序应该计算并显示总阻值。\n",
    "3. 如果用户输入的阻值为0或负数，程序应该显示错误消息并要求用户重新输入。\n",
    "\n",
    "```cpp\n",
    "#include <iostream>\n",
    "\n",
    "int main() {\n",
    "    double R1, R2, Rtotal;\n",
    "\n",
    "    // TODO: 获取用户输入的 R1 和 R2\n",
    "    // TODO: 计算 Rtotal\n",
    "    // TODO: 显示 Rtotal 或错误消息\n",
    "\n",
    "    return 0;\n",
    "}\n",
    "```\n",
    "\n",
    "请完成上述 TODO 部分的代码。"
   ]
  },
  {
   "cell_type": "code",
   "execution_count": 12,
   "metadata": {
    "vscode": {
     "languageId": "cpp"
    }
   },
   "outputs": [
    {
     "name": "stdout",
     "output_type": "stream",
     "text": [
      "请输入第一个电阻的阻值：\n",
      "请输入第二个电阻的阻值：\n",
      "并联电阻的总阻值为：80.622\n"
     ]
    }
   ],
   "source": [
    "#include <iostream>\n",
    "#include <iomanip>\n",
    "#include <limits>\n",
    "\n",
    "// int main() {\n",
    "    double R1, R2, Rtotal;\n",
    "\n",
    "    // 获取用户输入的 R1\n",
    "    std::cout << \"请输入第一个电阻的阻值：\" << std::endl;\n",
    "    while (!(std::cin >> R1) || R1 <= 0) {\n",
    "        std::cin.clear();  // 清除错误状态\n",
    "        std::cin.ignore(std::numeric_limits<std::streamsize>::max(), '\\n');  // 忽略错误的输入\n",
    "        std::cout << \"阻值必须大于0，请重新输入第一个电阻的阻值：\" << std::endl;\n",
    "    }\n",
    "\n",
    "    // 获取用户输入的 R2\n",
    "    std::cout << \"请输入第二个电阻的阻值：\" << std::endl;\n",
    "    while (!(std::cin >> R2) || R2 <= 0) {\n",
    "        std::cin.clear();\n",
    "        std::cin.ignore(std::numeric_limits<std::streamsize>::max(), '\\n');\n",
    "        std::cout << \"阻值必须大于0，请重新输入第二个电阻的阻值：\" << std::endl;\n",
    "    }\n",
    "\n",
    "    // 计算 Rtotal\n",
    "    Rtotal = 1 / (1 / R1 + 1 / R2);\n",
    "\n",
    "    // 显示 Rtotal，保留三位小数\n",
    "    std::cout << \"并联电阻的总阻值为：\" << std::fixed << std::setprecision(3) << Rtotal << std::endl;\n",
    "\n",
    "    // return 0;\n",
    "// }\n"
   ]
  },
  {
   "cell_type": "markdown",
   "metadata": {},
   "source": [
    "## 计算圆的面积\n",
    "\n",
    "题目：圆的面积计算器\n",
    "\n",
    "编写一个 C++ 程序，该程序可以计算圆的面积。圆的面积可以通过以下公式计算：\n",
    "\n",
    "A = πr²\n",
    "\n",
    "其中，A 是圆的面积，r 是圆的半径，π 是一个常数，约等于 3.14159。\n",
    "\n",
    "要求：\n",
    "\n",
    "1. 程序应该提示用户输入圆的半径。\n",
    "2. 程序应该计算并显示圆的面积。\n",
    "3. 如果用户输入的半径为负数，程序应该显示错误消息并要求用户重新输入。\n",
    "\n",
    "```cpp\n",
    "#include <iostream>\n",
    "\n",
    "int main() {\n",
    "    double radius, area;\n",
    "\n",
    "    // TODO: 获取用户输入的 radius\n",
    "    // TODO: 计算 area\n",
    "    // TODO: 显示 area 或错误消息\n",
    "\n",
    "    return 0;\n",
    "}\n",
    "```\n",
    "\n",
    "请完成上述 TODO 部分的代码。"
   ]
  },
  {
   "cell_type": "code",
   "execution_count": 17,
   "metadata": {
    "vscode": {
     "languageId": "ini"
    }
   },
   "outputs": [
    {
     "name": "stdout",
     "output_type": "stream",
     "text": [
      "请输入圆的半径：\n"
     ]
    },
    {
     "name": "stdout",
     "output_type": "stream",
     "text": [
      "圆的面积为：1661.903\n"
     ]
    },
    {
     "name": "stderr",
     "output_type": "stream",
     "text": [
      "input_line_50:1:7: error: use of undeclared identifier 'xcpp'\n",
      "using xcpp::mime_bundle_repr;void __cling_Un1Qu327(void* vpClingValue) {\n",
      "      ^\n",
      "input_line_50:2:2: error: use of undeclared identifier 'mime_bundle_repr'; did you mean 'xtl::mime_bundle_repr'?\n",
      " mime_bundle_repr(*(*(std::basic_ostream<char, std::char_traits<char> >::__ostream_type**)0x7ffd389b8dc0));\n",
      " ^~~~~~~~~~~~~~~~\n",
      " xtl::mime_bundle_repr\n",
      "/opt/conda/include/xtl/xbasic_fixed_string.hpp:2306:20: note: 'xtl::mime_bundle_repr' declared here\n",
      "    nlohmann::json mime_bundle_repr(const xbasic_fixed_string<CT, N, ST, EP, TR>& str)\n",
      "                   ^\n",
      "input_line_50:2:2: error: no matching function for call to 'mime_bundle_repr'\n",
      " mime_bundle_repr(*(*(std::basic_ostream<char, std::char_traits<char> >::__ostream_type**)0x7ffd389b8dc0));\n",
      " ^~~~~~~~~~~~~~~~\n",
      "/opt/conda/include/xtl/xbasic_fixed_string.hpp:2306:20: note: candidate template ignored: could not match 'xbasic_fixed_string' against 'basic_ostream'\n",
      "    nlohmann::json mime_bundle_repr(const xbasic_fixed_string<CT, N, ST, EP, TR>& str)\n",
      "                   ^\n"
     ]
    },
    {
     "data": {},
     "execution_count": 17,
     "metadata": {},
     "output_type": "execute_result"
    }
   ],
   "source": [
    "#include <iostream>\n",
    "#include <cmath>  // 需要包含这个头文件来使用 M_PI\n",
    "#include <iomanip>  // 需要包含这个头文件来使用 std::setprecision\n",
    "\n",
    "// int main()\n",
    "// {\n",
    "    double radius, area;\n",
    "\n",
    "    // 获取用户输入的 radius\n",
    "    std::cout << \"请输入圆的半径：\" << std::endl;\n",
    "    std::cin >> radius;\n",
    "    while (radius < 0) {\n",
    "        std::cout << \"半径不能为负数，请重新输入圆的半径：\" << std::endl;\n",
    "        std::cin >> radius;\n",
    "    }\n",
    "\n",
    "    // 计算 area\n",
    "    area = M_PI * radius * radius;\n",
    "\n",
    "    // 显示 area，保留三位小数\n",
    "    std::cout << \"圆的面积为：\" << std::fixed << std::setprecision(3) << area << std::endl;\n",
    "// }\n",
    "\n",
    "\n",
    "\n"
   ]
  }
 ],
 "metadata": {
  "kernelspec": {
   "display_name": "C++17",
   "language": "C++17",
   "name": "xcpp17"
  },
  "language_info": {
   "codemirror_mode": "text/x-c++src",
   "file_extension": ".cpp",
   "mimetype": "text/x-c++src",
   "name": "c++",
   "version": "17"
  }
 },
 "nbformat": 4,
 "nbformat_minor": 2
}
