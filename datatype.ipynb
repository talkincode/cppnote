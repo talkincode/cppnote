{
 "cells": [
  {
   "cell_type": "markdown",
   "metadata": {},
   "source": [
    "# 数据类型存储空间大小\n",
    "\n",
    "在 C++ 中，不同的数据类型有不同的存储空间大小。以下是一些常见数据类型的存储空间大小（在大多数现代计算机系统中）：\n",
    "\n",
    "- `char`：1 字节\n",
    "- `short`：2 字节\n",
    "- `int`：4 字节\n",
    "- `long`：4 字节（在某些系统中可能为 8 字节）\n",
    "- `long long`：8 字节\n",
    "- `float`：4 字节\n",
    "- `double`：8 字节\n",
    "- `long double`：通常为 12 字节，但在某些系统中可能为 16 字节\n",
    "\n",
    "请注意，这些值可能会根据你的系统和编译器的不同而有所不同。你可以使用 `sizeof` 运算符来获取特定系统上特定类型的确切大小。\n",
    "\n",
    "例如，以下代码将打印出 `int` 类型在你的系统上的大小：\n",
    "\n",
    "```cpp\n",
    "#include <iostream>\n",
    "\n",
    "int main() {\n",
    "    std::cout << \"Size of int: \" << sizeof(int) << \" bytes\" << std::endl;\n",
    "    return 0;\n",
    "}\n",
    "```"
   ]
  },
  {
   "cell_type": "markdown",
   "metadata": {},
   "source": [
    "## 整数数据类型存储空间大小\n",
    "\n",
    "题目：编写一个 C++ 程序，用于计算并打印出各种整数类型的存储空间大小。\n",
    "\n",
    "要求：\n",
    "1. 你的程序应该能够计算并打印出以下整数类型的存储空间大小（以字节为单位）：`short`, `int`, `long`, `long long`。\n",
    "2. 你的程序应该使用 `sizeof` 运算符来获取这些类型的大小。\n",
    "3. 你的程序应该有清晰的输出，使得用户可以轻松地看出每种类型的大小。\n",
    "\n",
    "提示：你可以使用 `std::cout` 来打印输出，使用 `sizeof` 运算符来获取类型的大小。\n",
    "\n",
    "这个程序会打印出每种整数类型的存储空间大小。\n"
   ]
  },
  {
   "cell_type": "code",
   "execution_count": 1,
   "metadata": {
    "vscode": {
     "languageId": "cpp"
    }
   },
   "outputs": [
    {
     "name": "stdout",
     "output_type": "stream",
     "text": [
      "Size of short: 2 bytes\n",
      "Size of int: 4 bytes\n",
      "Size of long: 8 bytes\n",
      "Size of long long: 8 bytes\n"
     ]
    },
    {
     "data": {
      "text/plain": [
       "@0x7fc6de313b60"
      ]
     },
     "execution_count": 1,
     "metadata": {},
     "output_type": "execute_result"
    }
   ],
   "source": [
    "#include <iostream>\n",
    "\n",
    "// int main() {\n",
    "    std::cout << \"Size of short: \" << sizeof(short) << \" bytes\" << std::endl;\n",
    "    std::cout << \"Size of int: \" << sizeof(int) << \" bytes\" << std::endl;\n",
    "    std::cout << \"Size of long: \" << sizeof(long) << \" bytes\" << std::endl;\n",
    "    std::cout << \"Size of long long: \" << sizeof(long long) << \" bytes\" << std::endl;\n",
    "\n",
    "//     return 0;\n",
    "// }"
   ]
  },
  {
   "cell_type": "markdown",
   "metadata": {},
   "source": [
    "`long` 和 `long long` 都是 C++ 中的整数类型，主要区别在于它们可以存储的整数的范围。\n",
    "\n",
    "- `long`：在大多数现代计算机系统中，`long` 类型通常占用 32 位（4 字节）或 64 位（8 字节）的存储空间，取决于你的系统和编译器。如果 `long` 是 32 位，它可以表示的整数范围从 -2147483648 到 2147483647。如果 `long` 是 64 位，它可以表示的整数范围从 -9223372036854775808 到 9223372036854775807。\n",
    "\n",
    "- `long long`：`long long` 类型通常占用 64 位（8 字节）的存储空间，可以表示的整数范围从 -9223372036854775808 到 9223372036854775807。\n",
    "\n",
    "因此，`long long` 可以存储的整数范围比 `long` 大（在 `long` 是 32 位的系统中）。如果你需要处理的整数可能超过 `long` 的范围，你应该使用 `long long`。"
   ]
  },
  {
   "cell_type": "markdown",
   "metadata": {},
   "source": [
    "## 其他数据类型存储空间大小\n",
    "\n",
    "题目：编写一个 C++ 程序，用于计算并打印出各种数据类型的存储空间大小。\n",
    "\n",
    "要求：\n",
    "1. 你的程序应该能够计算并打印出以下数据类型的存储空间大小（以字节为单位）：`bool`, `char`, `short`, `int`, `long`, `long long`, `float`, `double`, `long double`。\n",
    "2. 你的程序应该使用 `sizeof` 运算符来获取这些类型的大小。\n",
    "3. 你的程序应该有清晰的输出，使得用户可以轻松地看出每种类型的大小。\n",
    "\n",
    "提示：你可以使用 `std::cout` 来打印输出，使用 `sizeof` 运算符来获取类型的大小。\n",
    "\n",
    "这个程序会打印出每种数据类型的存储空间大小。"
   ]
  },
  {
   "cell_type": "code",
   "execution_count": 2,
   "metadata": {
    "vscode": {
     "languageId": "cpp"
    }
   },
   "outputs": [
    {
     "name": "stdout",
     "output_type": "stream",
     "text": [
      "Size of bool: 1 bytes\n",
      "Size of char: 1 bytes\n",
      "Size of short: 2 bytes\n",
      "Size of int: 4 bytes\n",
      "Size of long: 8 bytes\n",
      "Size of long long: 8 bytes\n",
      "Size of float: 4 bytes\n",
      "Size of double: 8 bytes\n",
      "Size of long double: 16 bytes\n"
     ]
    },
    {
     "data": {
      "text/plain": [
       "@0x7fc6de313b60"
      ]
     },
     "execution_count": 2,
     "metadata": {},
     "output_type": "execute_result"
    }
   ],
   "source": [
    "#include <iostream>\n",
    "\n",
    "// int main() {\n",
    "    std::cout << \"Size of bool: \" << sizeof(bool) << \" bytes\" << std::endl;\n",
    "    std::cout << \"Size of char: \" << sizeof(char) << \" bytes\" << std::endl;\n",
    "    std::cout << \"Size of short: \" << sizeof(short) << \" bytes\" << std::endl;\n",
    "    std::cout << \"Size of int: \" << sizeof(int) << \" bytes\" << std::endl;\n",
    "    std::cout << \"Size of long: \" << sizeof(long) << \" bytes\" << std::endl;\n",
    "    std::cout << \"Size of long long: \" << sizeof(long long) << \" bytes\" << std::endl;\n",
    "    std::cout << \"Size of float: \" << sizeof(float) << \" bytes\" << std::endl;\n",
    "    std::cout << \"Size of double: \" << sizeof(double) << \" bytes\" << std::endl;\n",
    "    std::cout << \"Size of long double: \" << sizeof(long double) << \" bytes\" << std::endl;\n",
    "\n",
    "//     return 0;\n",
    "// }"
   ]
  }
 ],
 "metadata": {
  "kernelspec": {
   "display_name": "C++17",
   "language": "C++17",
   "name": "xcpp17"
  },
  "language_info": {
   "codemirror_mode": "text/x-c++src",
   "file_extension": ".cpp",
   "mimetype": "text/x-c++src",
   "name": "C++17",
   "version": "17"
  }
 },
 "nbformat": 4,
 "nbformat_minor": 2
}
